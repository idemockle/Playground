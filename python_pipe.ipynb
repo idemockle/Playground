{
 "cells": [
  {
   "cell_type": "code",
   "execution_count": 2,
   "metadata": {},
   "outputs": [],
   "source": [
    "class ReceiverFunction:\n",
    "    def __init__(self, obj, base_fn):\n",
    "        self.arg1 = obj\n",
    "        self.fn = base_fn\n",
    "    \n",
    "    def __mul__(self, args):\n",
    "        if isinstance(args, Args):\n",
    "            return Sender(self.fn(self.arg1, *args.args, **args.kwargs))\n",
    "        else:\n",
    "            return Sender(self.fn(self.arg1, *args))\n",
    "    \n",
    "    def __matmul__(self, args):\n",
    "        if isinstance(args, Args):\n",
    "            return self.fn(self.arg1, *args.args, **args.kwargs)\n",
    "        else:\n",
    "            return self.fn(self.arg1, *args)\n",
    "\n",
    "\n",
    "class Sender:\n",
    "    def __init__(self, obj):\n",
    "        self.obj = obj\n",
    "    \n",
    "    def pipe_to(self, receiver):\n",
    "        return ReceiverFunction(self.obj, receiver)\n",
    "        \n",
    "    def __floordiv__(self, other):\n",
    "        return self.pipe_to(other)\n",
    "        \n",
    "\n",
    "class Args:\n",
    "    def __init__(self, *args, **kwargs):\n",
    "        self.args = args\n",
    "        self.kwargs = kwargs\n",
    "        \n",
    "def pk(obj):\n",
    "    return Sender(obj)\n",
    "\n",
    "def par(*args, **kwargs):\n",
    "    return Args(*args, **kwargs)"
   ]
  },
  {
   "cell_type": "code",
   "execution_count": 6,
   "metadata": {},
   "outputs": [],
   "source": [
    "class ReceiverFunction:\n",
    "    def __init__(self, obj, base_fn):\n",
    "        self.arg1 = obj\n",
    "        self.fn = base_fn\n",
    "    \n",
    "    def __mul__(self, args):\n",
    "        if isinstance(args, Args):\n",
    "            return Sender(self.fn(self.arg1, *args.args, **args.kwargs))\n",
    "        else:\n",
    "            return Sender(self.fn(self.arg1, *args))\n",
    "    \n",
    "    def __matmul__(self, args):\n",
    "        if isinstance(args, Args):\n",
    "            return self.fn(self.arg1, *args.args, **args.kwargs)\n",
    "        else:\n",
    "            return self.fn(self.arg1, *args)\n",
    "\n",
    "\n",
    "class Sender:\n",
    "    def __init__(self, obj):\n",
    "        self.obj = obj\n",
    "    \n",
    "    def pipe_to(self, receiver):\n",
    "        return ReceiverFunction(self.obj, receiver)\n",
    "        \n",
    "    def __gt__(self, other):\n",
    "        return self.pipe_to(other)\n",
    "        \n",
    "\n",
    "class Args:\n",
    "    def __init__(self, *args, **kwargs):\n",
    "        self.args = args\n",
    "        self.kwargs = kwargs\n",
    "        \n",
    "def pk(obj):\n",
    "    return Sender(obj)\n",
    "\n",
    "def w(*args, **kwargs):\n",
    "    return Args(*args, **kwargs)"
   ]
  },
  {
   "cell_type": "code",
   "execution_count": 4,
   "metadata": {},
   "outputs": [
    {
     "data": {
      "text/plain": [
       "['4', '3', '2', '1']"
      ]
     },
     "execution_count": 4,
     "metadata": {},
     "output_type": "execute_result"
    }
   ],
   "source": [
    "(pk([1,3,2,4]) \n",
    " // sorted*par(reverse=True)\n",
    " // (lambda x: [str(i) for i in x])@())"
   ]
  },
  {
   "cell_type": "code",
   "execution_count": 7,
   "metadata": {},
   "outputs": [
    {
     "ename": "TypeError",
     "evalue": "unsupported operand type(s) for *: 'builtin_function_or_method' and 'Args'",
     "output_type": "error",
     "traceback": [
      "\u001b[1;31m---------------------------------------------------------------------------\u001b[0m",
      "\u001b[1;31mTypeError\u001b[0m                                 Traceback (most recent call last)",
      "\u001b[1;32m<ipython-input-7-3a11ea065ebd>\u001b[0m in \u001b[0;36m<module>\u001b[1;34m\u001b[0m\n\u001b[0;32m      1\u001b[0m (pk([1,3,2,4]) \n\u001b[1;32m----> 2\u001b[1;33m  \u001b[1;33m>\u001b[0m\u001b[0msorted\u001b[0m\u001b[1;33m*\u001b[0m\u001b[0mw\u001b[0m\u001b[1;33m(\u001b[0m\u001b[0mreverse\u001b[0m\u001b[1;33m=\u001b[0m\u001b[1;32mTrue\u001b[0m\u001b[1;33m)\u001b[0m\u001b[1;33m\u001b[0m\u001b[0m\n\u001b[0m\u001b[0;32m      3\u001b[0m  >(lambda x: [str(i) for i in x])@())\n",
      "\u001b[1;31mTypeError\u001b[0m: unsupported operand type(s) for *: 'builtin_function_or_method' and 'Args'"
     ]
    }
   ],
   "source": [
    "(pk([1,3,2,4]) \n",
    " >sorted*w(reverse=True)\n",
    " >(lambda x: [str(i) for i in x])@())"
   ]
  },
  {
   "cell_type": "code",
   "execution_count": 44,
   "metadata": {},
   "outputs": [
    {
     "data": {
      "text/plain": [
       "{1, 2, 3, 4}"
      ]
     },
     "execution_count": 44,
     "metadata": {},
     "output_type": "execute_result"
    }
   ],
   "source": [
    "set(sorted([1,3,2,4], key=lambda x: -x))"
   ]
  },
  {
   "cell_type": "code",
   "execution_count": null,
   "metadata": {},
   "outputs": [],
   "source": [
    "c(1,3,2,4) %>%"
   ]
  },
  {
   "cell_type": "code",
   "execution_count": null,
   "metadata": {},
   "outputs": [],
   "source": []
  },
  {
   "cell_type": "code",
   "execution_count": 134,
   "metadata": {},
   "outputs": [],
   "source": [
    "class ReceiverFunction:\n",
    "    def __init__(self, obj, base_fn):\n",
    "        self.arg1 = obj\n",
    "        self.fn = base_fn\n",
    "    \n",
    "    def __truediv__(self, args):\n",
    "        return Sender(self.fn(self.arg1, *args))\n",
    "    \n",
    "#     def __matmul__(self, args):\n",
    "#         return self.fn(self.arg1, *args)\n",
    "\n",
    "\n",
    "class Sender:\n",
    "    def __init__(self, obj):\n",
    "        self.obj = obj\n",
    "    \n",
    "    def pipe_to(self, receiver):\n",
    "        return ReceiverFunction(self.obj, receiver)\n",
    "        \n",
    "    def __truediv__(self, other):\n",
    "        return self.pipe_to(other)\n",
    "    \n",
    "    def __invert__(self):\n",
    "        return self.obj\n",
    "        \n",
    "        \n",
    "def pk(obj):\n",
    "    return Sender(obj)"
   ]
  },
  {
   "cell_type": "code",
   "execution_count": 122,
   "metadata": {},
   "outputs": [
    {
     "data": {
      "text/plain": [
       "1.0"
      ]
     },
     "execution_count": 122,
     "metadata": {},
     "output_type": "execute_result"
    }
   ],
   "source": [
    "6/2/3"
   ]
  },
  {
   "cell_type": "code",
   "execution_count": 38,
   "metadata": {},
   "outputs": [
    {
     "ename": "TypeError",
     "evalue": "unsupported operand type(s) for /: 'Sender' and 'builtin_function_or_method'",
     "output_type": "error",
     "traceback": [
      "\u001b[1;31m---------------------------------------------------------------------------\u001b[0m",
      "\u001b[1;31mTypeError\u001b[0m                                 Traceback (most recent call last)",
      "\u001b[1;32m<ipython-input-38-93274f9c7e45>\u001b[0m in \u001b[0;36m<module>\u001b[1;34m\u001b[0m\n\u001b[0;32m      1\u001b[0m ~(pk([1,4,2,3]) \n\u001b[0;32m      2\u001b[0m   \u001b[1;33m/\u001b[0m\u001b[0msorted\u001b[0m\u001b[1;33m/\u001b[0m\u001b[0mpar\u001b[0m\u001b[1;33m(\u001b[0m\u001b[0mkey\u001b[0m\u001b[1;33m=\u001b[0m\u001b[1;32mlambda\u001b[0m \u001b[0mx\u001b[0m\u001b[1;33m:\u001b[0m \u001b[1;33m-\u001b[0m\u001b[0mx\u001b[0m\u001b[1;33m)\u001b[0m\u001b[1;33m\u001b[0m\u001b[0m\n\u001b[1;32m----> 3\u001b[1;33m   /(lambda x: x-1)/()) \n\u001b[0m",
      "\u001b[1;31mTypeError\u001b[0m: unsupported operand type(s) for /: 'Sender' and 'builtin_function_or_method'"
     ]
    }
   ],
   "source": [
    "~(pk([1,4,2,3]) \n",
    "  /sorted/par(key=lambda x: -x)\n",
    "  /reversed/() \n",
    "  /list/())"
   ]
  },
  {
   "cell_type": "code",
   "execution_count": 23,
   "metadata": {},
   "outputs": [],
   "source": [
    "import pandas as pd"
   ]
  },
  {
   "cell_type": "code",
   "execution_count": 31,
   "metadata": {},
   "outputs": [
    {
     "data": {
      "text/html": [
       "<div>\n",
       "<style scoped>\n",
       "    .dataframe tbody tr th:only-of-type {\n",
       "        vertical-align: middle;\n",
       "    }\n",
       "\n",
       "    .dataframe tbody tr th {\n",
       "        vertical-align: top;\n",
       "    }\n",
       "\n",
       "    .dataframe thead th {\n",
       "        text-align: right;\n",
       "    }\n",
       "</style>\n",
       "<table border=\"1\" class=\"dataframe\">\n",
       "  <thead>\n",
       "    <tr style=\"text-align: right;\">\n",
       "      <th></th>\n",
       "      <th>stuff</th>\n",
       "    </tr>\n",
       "  </thead>\n",
       "  <tbody>\n",
       "    <tr>\n",
       "      <th>0</th>\n",
       "      <td>1970-01-01 00:00:01</td>\n",
       "    </tr>\n",
       "    <tr>\n",
       "      <th>1</th>\n",
       "      <td>1970-01-01 00:00:02</td>\n",
       "    </tr>\n",
       "    <tr>\n",
       "      <th>2</th>\n",
       "      <td>1970-01-01 00:00:03</td>\n",
       "    </tr>\n",
       "  </tbody>\n",
       "</table>\n",
       "</div>"
      ],
      "text/plain": [
       "                stuff\n",
       "0 1970-01-01 00:00:01\n",
       "1 1970-01-01 00:00:02\n",
       "2 1970-01-01 00:00:03"
      ]
     },
     "execution_count": 31,
     "metadata": {},
     "output_type": "execute_result"
    }
   ],
   "source": [
    "(pk(   pd.Series([1,2,3])\n",
    " )  // pd.to_datetime@par(unit='s')) \\\n",
    "       .rename('stuff') \\\n",
    "       .to_frame()"
   ]
  },
  {
   "cell_type": "code",
   "execution_count": 35,
   "metadata": {},
   "outputs": [
    {
     "data": {
      "text/plain": [
       "<bound method Series.rename of 0   1970-01-01 00:00:01\n",
       "1   1970-01-01 00:00:02\n",
       "2   1970-01-01 00:00:03\n",
       "dtype: datetime64[ns]>"
      ]
     },
     "execution_count": 35,
     "metadata": {},
     "output_type": "execute_result"
    }
   ],
   "source": [
    "pk(pd.Series([1,2,3])) // pd.to_datetime@par(unit='s')"
   ]
  },
  {
   "cell_type": "code",
   "execution_count": 116,
   "metadata": {},
   "outputs": [
    {
     "data": {
      "text/plain": [
       "6561"
      ]
     },
     "execution_count": 116,
     "metadata": {},
     "output_type": "execute_result"
    }
   ],
   "source": [
    "(3**4)**2"
   ]
  },
  {
   "cell_type": "code",
   "execution_count": 2,
   "metadata": {},
   "outputs": [
    {
     "data": {
      "text/plain": [
       "<function sorted(iterable, /, *, key=None, reverse=False)>"
      ]
     },
     "execution_count": 2,
     "metadata": {},
     "output_type": "execute_result"
    }
   ],
   "source": [
    "sorted"
   ]
  },
  {
   "cell_type": "code",
   "execution_count": 6,
   "metadata": {},
   "outputs": [],
   "source": [
    "def isTrue(x):\n",
    "    return x is True"
   ]
  },
  {
   "cell_type": "code",
   "execution_count": null,
   "metadata": {},
   "outputs": [],
   "source": []
  },
  {
   "cell_type": "code",
   "execution_count": 8,
   "metadata": {},
   "outputs": [],
   "source": [
    "class N:\n",
    "    def __init__(self, val):\n",
    "        self.val = val\n",
    "    \n",
    "    def __mul__(self, other):\n",
    "        return self.val * other\n",
    "    \n",
    "    def __rmul__(self, other):\n",
    "        return self * other\n",
    "    \n",
    "    def __getitem__(self, key):\n",
    "        return self.val[key]"
   ]
  },
  {
   "cell_type": "code",
   "execution_count": 6,
   "metadata": {},
   "outputs": [
    {
     "data": {
      "text/plain": [
       "6"
      ]
     },
     "execution_count": 6,
     "metadata": {},
     "output_type": "execute_result"
    }
   ],
   "source": [
    "2*N(3)"
   ]
  },
  {
   "cell_type": "code",
   "execution_count": null,
   "metadata": {},
   "outputs": [],
   "source": [
    "#orig\n",
    "envelope = wave - np.mean(wave)\n",
    "envelope = np.abs(envelope)\n",
    "envelope = np.convolve(envelope, h)\n",
    "envelope = envelope[16:656]"
   ]
  },
  {
   "cell_type": "code",
   "execution_count": null,
   "metadata": {},
   "outputs": [],
   "source": [
    "np.convolve(np.abs(wave - np.mean(wave)), h)[16:656]"
   ]
  },
  {
   "cell_type": "code",
   "execution_count": null,
   "metadata": {},
   "outputs": [],
   "source": [
    "(pk(wave)\n",
    " >(lambda x: x - np.mean(x))*w()\n",
    " >np.abs*w()\n",
    " >np.convolve^{0}@w(h)\n",
    " [16:656])"
   ]
  },
  {
   "cell_type": "code",
   "execution_count": null,
   "metadata": {},
   "outputs": [],
   "source": [
    "[START, wave] + [lambdafn, ARGS()] + [np.abs, ARGS()] + [np.convolve, ARGS(h)] + [np.convolve, ARGS(h), INDEX(16, 656), END]"
   ]
  },
  {
   "cell_type": "code",
   "execution_count": null,
   "metadata": {},
   "outputs": [],
   "source": [
    "np.convolve(np.abs(wave - np.mean(wave)), h)[16:656]"
   ]
  },
  {
   "cell_type": "code",
   "execution_count": 9,
   "metadata": {},
   "outputs": [
    {
     "ename": "TypeError",
     "evalue": "bad operand type for unary ~: 'function'",
     "output_type": "error",
     "traceback": [
      "\u001b[1;31m---------------------------------------------------------------------------\u001b[0m",
      "\u001b[1;31mTypeError\u001b[0m                                 Traceback (most recent call last)",
      "\u001b[1;32m<ipython-input-9-3c67fca45803>\u001b[0m in \u001b[0;36m<module>\u001b[1;34m\u001b[0m\n\u001b[1;32m----> 1\u001b[1;33m \u001b[1;33m(\u001b[0m\u001b[1;33m~\u001b[0m\u001b[0misTrue\u001b[0m\u001b[1;33m)\u001b[0m\u001b[1;33m(\u001b[0m\u001b[1;32mTrue\u001b[0m\u001b[1;33m)\u001b[0m\u001b[1;33m\u001b[0m\u001b[0m\n\u001b[0m",
      "\u001b[1;31mTypeError\u001b[0m: bad operand type for unary ~: 'function'"
     ]
    }
   ],
   "source": [
    "a = (pk({})\n",
    "     >['hello']<=pk(1)\n",
    "     >['green']<=(lambda d: d['hello']*5)*w()\n",
    "     >(lambda d: mean(d[key] for key in d))*w()"
   ]
  },
  {
   "cell_type": "code",
   "execution_count": null,
   "metadata": {},
   "outputs": [],
   "source": [
    "a = {}\n",
    "a['hello'] = 1\n",
    "a['green'] = a['hello']*5\n",
    "a = mean(d[key] for key in d)"
   ]
  },
  {
   "cell_type": "code",
   "execution_count": 14,
   "metadata": {},
   "outputs": [
    {
     "ename": "TypeError",
     "evalue": "'int' object is not callable",
     "output_type": "error",
     "traceback": [
      "\u001b[1;31m---------------------------------------------------------------------------\u001b[0m",
      "\u001b[1;31mTypeError\u001b[0m                                 Traceback (most recent call last)",
      "\u001b[1;32m<ipython-input-14-ef9d22862f3d>\u001b[0m in \u001b[0;36m<module>\u001b[1;34m\u001b[0m\n\u001b[1;32m----> 1\u001b[1;33m \u001b[1;36m1\u001b[0m\u001b[1;33m|\u001b[0m\u001b[1;36m0\u001b[0m\u001b[1;33m(\u001b[0m\u001b[1;34m'hello'\u001b[0m\u001b[1;33m)\u001b[0m\u001b[1;33m\u001b[0m\u001b[0m\n\u001b[0m",
      "\u001b[1;31mTypeError\u001b[0m: 'int' object is not callable"
     ]
    }
   ],
   "source": [
    "1|0('hello')"
   ]
  }
 ],
 "metadata": {
  "kernelspec": {
   "display_name": "Python 3",
   "language": "python",
   "name": "python3"
  },
  "language_info": {
   "codemirror_mode": {
    "name": "ipython",
    "version": 3
   },
   "file_extension": ".py",
   "mimetype": "text/x-python",
   "name": "python",
   "nbconvert_exporter": "python",
   "pygments_lexer": "ipython3",
   "version": "3.8.0"
  }
 },
 "nbformat": 4,
 "nbformat_minor": 2
}
